{
 "cells": [
  {
   "cell_type": "code",
   "execution_count": 538,
   "id": "f50866e7",
   "metadata": {},
   "outputs": [],
   "source": [
    "from bs4 import BeautifulSoup\n",
    "from bs4 import BeautifulSoup\n",
    "import requests\n",
    "import pandas as pd"
   ]
  },
  {
   "cell_type": "markdown",
   "id": "23dae245",
   "metadata": {},
   "source": [
    "finding the url"
   ]
  },
  {
   "cell_type": "code",
   "execution_count": 539,
   "id": "d1267c7a",
   "metadata": {},
   "outputs": [],
   "source": [
    "url = \"https://www.top-charts.com/songs\""
   ]
  },
  {
   "cell_type": "markdown",
   "id": "f4271375",
   "metadata": {},
   "source": [
    "Download html with a get request"
   ]
  },
  {
   "cell_type": "code",
   "execution_count": 540,
   "id": "fc356308",
   "metadata": {},
   "outputs": [
    {
     "data": {
      "text/plain": [
       "200"
      ]
     },
     "execution_count": 540,
     "metadata": {},
     "output_type": "execute_result"
    }
   ],
   "source": [
    "response = requests.get(url)\n",
    "response.status_code"
   ]
  },
  {
   "cell_type": "markdown",
   "id": "b24df376",
   "metadata": {},
   "source": [
    "Parse html"
   ]
  },
  {
   "cell_type": "code",
   "execution_count": 541,
   "id": "9b17d496",
   "metadata": {},
   "outputs": [],
   "source": [
    "soup = BeautifulSoup(response.content, \"html.parser\")"
   ]
  },
  {
   "cell_type": "code",
   "execution_count": 542,
   "id": "4f7512ae",
   "metadata": {},
   "outputs": [],
   "source": [
    "#print(soup.prettify())"
   ]
  },
  {
   "cell_type": "code",
   "execution_count": 543,
   "id": "ccc336ab",
   "metadata": {},
   "outputs": [],
   "source": [
    "#soup.select(\"#title > div > span > a > div\")"
   ]
  },
  {
   "cell_type": "code",
   "execution_count": 544,
   "id": "71fb3cbc",
   "metadata": {},
   "outputs": [],
   "source": [
    "#soup.select(\"div.text-truncate\")"
   ]
  },
  {
   "cell_type": "code",
   "execution_count": 545,
   "id": "0d159f4e",
   "metadata": {},
   "outputs": [
    {
     "data": {
      "text/plain": [
       "'Pareja Del Año'"
      ]
     },
     "execution_count": 545,
     "metadata": {},
     "output_type": "execute_result"
    }
   ],
   "source": [
    "soup.select(\"div.text-truncate\")[0].get_text()"
   ]
  },
  {
   "cell_type": "code",
   "execution_count": 546,
   "id": "5eca8aae",
   "metadata": {},
   "outputs": [],
   "source": [
    "#soup.select(\"#s1 > div.col-10.d-flex.align-items-center.pl-0\")"
   ]
  },
  {
   "cell_type": "code",
   "execution_count": 547,
   "id": "2eb521a5",
   "metadata": {},
   "outputs": [],
   "source": [
    "#soup.select(\"div.text-truncate\")"
   ]
  },
  {
   "cell_type": "code",
   "execution_count": 548,
   "id": "32fa889d",
   "metadata": {},
   "outputs": [
    {
     "data": {
      "text/plain": [
       "'Pareja Del Año'"
      ]
     },
     "execution_count": 548,
     "metadata": {},
     "output_type": "execute_result"
    }
   ],
   "source": [
    "soup.select(\"div.text-truncate\")[0].get_text()"
   ]
  },
  {
   "cell_type": "code",
   "execution_count": 549,
   "id": "e015bafc",
   "metadata": {},
   "outputs": [],
   "source": [
    "title = []\n",
    "artist = []\n",
    "num_iter = len(soup.select(\"div.text-truncate\"))\n",
    "\n",
    "for i in range(num_iter):\n",
    "    if i% 2 == 0:\n",
    "        title.append(soup.select(\"div.text-truncate\")[i].get_text())\n",
    "    else:\n",
    "        artist.append(soup.select(\"div.text-truncate\")[i].get_text())\n",
    "\n",
    "    "
   ]
  },
  {
   "cell_type": "code",
   "execution_count": 550,
   "id": "a7e2ee6e",
   "metadata": {},
   "outputs": [],
   "source": [
    "topspain = pd.DataFrame({\"title\":title,\"artist\":artist})"
   ]
  },
  {
   "cell_type": "code",
   "execution_count": 551,
   "id": "d97b0331",
   "metadata": {},
   "outputs": [
    {
     "data": {
      "text/html": [
       "<div>\n",
       "<style scoped>\n",
       "    .dataframe tbody tr th:only-of-type {\n",
       "        vertical-align: middle;\n",
       "    }\n",
       "\n",
       "    .dataframe tbody tr th {\n",
       "        vertical-align: top;\n",
       "    }\n",
       "\n",
       "    .dataframe thead th {\n",
       "        text-align: right;\n",
       "    }\n",
       "</style>\n",
       "<table border=\"1\" class=\"dataframe\">\n",
       "  <thead>\n",
       "    <tr style=\"text-align: right;\">\n",
       "      <th></th>\n",
       "      <th>title</th>\n",
       "      <th>artist</th>\n",
       "    </tr>\n",
       "  </thead>\n",
       "  <tbody>\n",
       "    <tr>\n",
       "      <th>0</th>\n",
       "      <td>Pareja Del Año</td>\n",
       "      <td>Myke Towers,   Sebastián Yatra</td>\n",
       "    </tr>\n",
       "    <tr>\n",
       "      <th>1</th>\n",
       "      <td>Fiel</td>\n",
       "      <td>Jhay Cortez,  Los Legendarios,  Wisin</td>\n",
       "    </tr>\n",
       "    <tr>\n",
       "      <th>2</th>\n",
       "      <td>Flamenco y Bachata</td>\n",
       "      <td>Daviles de Novelda</td>\n",
       "    </tr>\n",
       "    <tr>\n",
       "      <th>3</th>\n",
       "      <td>AM</td>\n",
       "      <td>Flow La Movie,  Nio García</td>\n",
       "    </tr>\n",
       "    <tr>\n",
       "      <th>4</th>\n",
       "      <td>Búmeran</td>\n",
       "      <td>Beluga</td>\n",
       "    </tr>\n",
       "    <tr>\n",
       "      <th>...</th>\n",
       "      <td>...</td>\n",
       "      <td>...</td>\n",
       "    </tr>\n",
       "    <tr>\n",
       "      <th>96</th>\n",
       "      <td>Jerusalema (feat. Nomcebo Zikode) [Edit]</td>\n",
       "      <td>Master KG</td>\n",
       "    </tr>\n",
       "    <tr>\n",
       "      <th>97</th>\n",
       "      <td>Poblado</td>\n",
       "      <td>Totoy El Frio,  Natan &amp; Shander,  Crissin</td>\n",
       "    </tr>\n",
       "    <tr>\n",
       "      <th>98</th>\n",
       "      <td>Sonqueson</td>\n",
       "      <td>La Pegatina</td>\n",
       "    </tr>\n",
       "    <tr>\n",
       "      <th>99</th>\n",
       "      <td>Inside News</td>\n",
       "      <td>Warner/Chappell Productions</td>\n",
       "    </tr>\n",
       "    <tr>\n",
       "      <th>100</th>\n",
       "      <td></td>\n",
       "      <td>Los Legendarios, Wisin &amp; Jhay Cortez</td>\n",
       "    </tr>\n",
       "  </tbody>\n",
       "</table>\n",
       "<p>101 rows × 2 columns</p>\n",
       "</div>"
      ],
      "text/plain": [
       "                                        title  \\\n",
       "0                              Pareja Del Año   \n",
       "1                                        Fiel   \n",
       "2                          Flamenco y Bachata   \n",
       "3                                          AM   \n",
       "4                                     Búmeran   \n",
       "..                                        ...   \n",
       "96   Jerusalema (feat. Nomcebo Zikode) [Edit]   \n",
       "97                                    Poblado   \n",
       "98                                  Sonqueson   \n",
       "99                                Inside News   \n",
       "100                                             \n",
       "\n",
       "                                        artist  \n",
       "0               Myke Towers,   Sebastián Yatra  \n",
       "1        Jhay Cortez,  Los Legendarios,  Wisin  \n",
       "2                           Daviles de Novelda  \n",
       "3                   Flow La Movie,  Nio García  \n",
       "4                                       Beluga  \n",
       "..                                         ...  \n",
       "96                                   Master KG  \n",
       "97   Totoy El Frio,  Natan & Shander,  Crissin  \n",
       "98                                 La Pegatina  \n",
       "99                 Warner/Chappell Productions  \n",
       "100       Los Legendarios, Wisin & Jhay Cortez  \n",
       "\n",
       "[101 rows x 2 columns]"
      ]
     },
     "execution_count": 551,
     "metadata": {},
     "output_type": "execute_result"
    }
   ],
   "source": [
    "topspain"
   ]
  },
  {
   "cell_type": "code",
   "execution_count": 552,
   "id": "82bcb783",
   "metadata": {},
   "outputs": [],
   "source": [
    "topspain = topspain.drop(labels=100, axis=0)"
   ]
  },
  {
   "cell_type": "markdown",
   "id": "a13073a7",
   "metadata": {},
   "source": [
    "Top from UK"
   ]
  },
  {
   "cell_type": "code",
   "execution_count": 553,
   "id": "579fb3b9",
   "metadata": {},
   "outputs": [],
   "source": [
    "url2 = \"https://www.top-charts.com/songs/all-genres/united-kingdom/total/2021-W18\""
   ]
  },
  {
   "cell_type": "code",
   "execution_count": 554,
   "id": "377918c3",
   "metadata": {},
   "outputs": [
    {
     "data": {
      "text/plain": [
       "200"
      ]
     },
     "execution_count": 554,
     "metadata": {},
     "output_type": "execute_result"
    }
   ],
   "source": [
    "response = requests.get(url2)\n",
    "response.status_code"
   ]
  },
  {
   "cell_type": "code",
   "execution_count": 555,
   "id": "d8db1cd3",
   "metadata": {},
   "outputs": [],
   "source": [
    "soup = BeautifulSoup(response.content, \"html.parser\")"
   ]
  },
  {
   "cell_type": "code",
   "execution_count": 556,
   "id": "ee17aae5",
   "metadata": {},
   "outputs": [],
   "source": [
    "#print(soup.prettify())"
   ]
  },
  {
   "cell_type": "code",
   "execution_count": 557,
   "id": "8c1eaad4",
   "metadata": {},
   "outputs": [],
   "source": [
    "#soup.select(\"#title > div > span > a > div\")"
   ]
  },
  {
   "cell_type": "code",
   "execution_count": 558,
   "id": "324a8f66",
   "metadata": {},
   "outputs": [
    {
     "data": {
      "text/plain": [
       "'Tion Wayne, \\xa0 Russ Millions'"
      ]
     },
     "execution_count": 558,
     "metadata": {},
     "output_type": "execute_result"
    }
   ],
   "source": [
    "soup.select(\"div.text-truncate\")[1].get_text()"
   ]
  },
  {
   "cell_type": "code",
   "execution_count": 559,
   "id": "7ca3ab7e",
   "metadata": {},
   "outputs": [],
   "source": [
    "title = []\n",
    "artist = []\n",
    "num_iter = len(soup.select(\"div.text-truncate\"))\n",
    "\n",
    "for i in range(num_iter):\n",
    "    if i% 2 == 0:\n",
    "        title.append(soup.select(\"div.text-truncate\")[i].get_text())\n",
    "    else:\n",
    "        artist.append(soup.select(\"div.text-truncate\")[i].get_text())\n"
   ]
  },
  {
   "cell_type": "code",
   "execution_count": 560,
   "id": "44a685f2",
   "metadata": {},
   "outputs": [],
   "source": [
    "topuk= pd.DataFrame({\"title\":title,\"artist\":artist})"
   ]
  },
  {
   "cell_type": "code",
   "execution_count": 561,
   "id": "6c6abdc2",
   "metadata": {},
   "outputs": [],
   "source": [
    "topuk = topuk.drop(labels=100, axis=0)"
   ]
  },
  {
   "cell_type": "code",
   "execution_count": 562,
   "id": "f9708c17",
   "metadata": {},
   "outputs": [],
   "source": [
    "hits= pd.concat([topspain,topuk], axis=0)"
   ]
  },
  {
   "cell_type": "code",
   "execution_count": 563,
   "id": "8e18544d",
   "metadata": {},
   "outputs": [
    {
     "data": {
      "text/html": [
       "<div>\n",
       "<style scoped>\n",
       "    .dataframe tbody tr th:only-of-type {\n",
       "        vertical-align: middle;\n",
       "    }\n",
       "\n",
       "    .dataframe tbody tr th {\n",
       "        vertical-align: top;\n",
       "    }\n",
       "\n",
       "    .dataframe thead th {\n",
       "        text-align: right;\n",
       "    }\n",
       "</style>\n",
       "<table border=\"1\" class=\"dataframe\">\n",
       "  <thead>\n",
       "    <tr style=\"text-align: right;\">\n",
       "      <th></th>\n",
       "      <th>title</th>\n",
       "      <th>artist</th>\n",
       "    </tr>\n",
       "  </thead>\n",
       "  <tbody>\n",
       "    <tr>\n",
       "      <th>0</th>\n",
       "      <td>Pareja Del Año</td>\n",
       "      <td>Myke Towers,   Sebastián Yatra</td>\n",
       "    </tr>\n",
       "    <tr>\n",
       "      <th>1</th>\n",
       "      <td>Fiel</td>\n",
       "      <td>Jhay Cortez,  Los Legendarios,  Wisin</td>\n",
       "    </tr>\n",
       "    <tr>\n",
       "      <th>2</th>\n",
       "      <td>Flamenco y Bachata</td>\n",
       "      <td>Daviles de Novelda</td>\n",
       "    </tr>\n",
       "    <tr>\n",
       "      <th>3</th>\n",
       "      <td>AM</td>\n",
       "      <td>Flow La Movie,  Nio García</td>\n",
       "    </tr>\n",
       "    <tr>\n",
       "      <th>4</th>\n",
       "      <td>Búmeran</td>\n",
       "      <td>Beluga</td>\n",
       "    </tr>\n",
       "    <tr>\n",
       "      <th>...</th>\n",
       "      <td>...</td>\n",
       "      <td>...</td>\n",
       "    </tr>\n",
       "    <tr>\n",
       "      <th>95</th>\n",
       "      <td>Beautiful Mistakes</td>\n",
       "      <td>Megan Thee Stallion,  Maroon 5</td>\n",
       "    </tr>\n",
       "    <tr>\n",
       "      <th>96</th>\n",
       "      <td>Gangsta's Paradise (feat. L.V.)</td>\n",
       "      <td>Coolio</td>\n",
       "    </tr>\n",
       "    <tr>\n",
       "      <th>97</th>\n",
       "      <td>Blinding Lights (Instrumental)</td>\n",
       "      <td>The Weeknd</td>\n",
       "    </tr>\n",
       "    <tr>\n",
       "      <th>98</th>\n",
       "      <td>6 For 6</td>\n",
       "      <td>Central Cee</td>\n",
       "    </tr>\n",
       "    <tr>\n",
       "      <th>99</th>\n",
       "      <td>Head &amp; Heart (Originally Performed by Joel Cor...</td>\n",
       "      <td>EdKara</td>\n",
       "    </tr>\n",
       "  </tbody>\n",
       "</table>\n",
       "<p>200 rows × 2 columns</p>\n",
       "</div>"
      ],
      "text/plain": [
       "                                                title  \\\n",
       "0                                      Pareja Del Año   \n",
       "1                                                Fiel   \n",
       "2                                  Flamenco y Bachata   \n",
       "3                                                  AM   \n",
       "4                                             Búmeran   \n",
       "..                                                ...   \n",
       "95                                 Beautiful Mistakes   \n",
       "96                    Gangsta's Paradise (feat. L.V.)   \n",
       "97                     Blinding Lights (Instrumental)   \n",
       "98                                            6 For 6   \n",
       "99  Head & Heart (Originally Performed by Joel Cor...   \n",
       "\n",
       "                                   artist  \n",
       "0          Myke Towers,   Sebastián Yatra  \n",
       "1   Jhay Cortez,  Los Legendarios,  Wisin  \n",
       "2                      Daviles de Novelda  \n",
       "3              Flow La Movie,  Nio García  \n",
       "4                                  Beluga  \n",
       "..                                    ...  \n",
       "95         Megan Thee Stallion,  Maroon 5  \n",
       "96                                 Coolio  \n",
       "97                             The Weeknd  \n",
       "98                            Central Cee  \n",
       "99                                 EdKara  \n",
       "\n",
       "[200 rows x 2 columns]"
      ]
     },
     "execution_count": 563,
     "metadata": {},
     "output_type": "execute_result"
    }
   ],
   "source": [
    "hits"
   ]
  },
  {
   "cell_type": "code",
   "execution_count": 564,
   "id": "e01b5254",
   "metadata": {},
   "outputs": [
    {
     "name": "stderr",
     "output_type": "stream",
     "text": [
      "C:\\Users\\gonza\\AppData\\Local\\Temp/ipykernel_2424/651796404.py:1: FutureWarning: The default value of regex will change from True to False in a future version. In addition, single character regular expressions will *not* be treated as literal strings when regex=True.\n",
      "  hits['title'] = hits['title'].str.replace(\"(\",'').str.replace(')','')\n"
     ]
    }
   ],
   "source": [
    "hits['title'] = hits['title'].str.replace(\"(\",'').str.replace(')','')"
   ]
  },
  {
   "cell_type": "code",
   "execution_count": 565,
   "id": "d03bc4e4",
   "metadata": {},
   "outputs": [],
   "source": [
    "hits[['title', 'featuring']] = hits['title'].str.split('feat.', expand=True, n=1)"
   ]
  },
  {
   "cell_type": "code",
   "execution_count": 566,
   "id": "d35bafc6",
   "metadata": {},
   "outputs": [],
   "source": [
    "hits['featuring'] = hits['featuring'].replace('None', 'No feat')"
   ]
  },
  {
   "cell_type": "code",
   "execution_count": 567,
   "id": "f820a5d4",
   "metadata": {},
   "outputs": [],
   "source": [
    "hits = hits.fillna('no feat')"
   ]
  },
  {
   "cell_type": "code",
   "execution_count": 568,
   "id": "77b38165",
   "metadata": {},
   "outputs": [],
   "source": [
    "for i in hits.columns:\n",
    "    hits[i] = list(map(lambda x: x.lower(), hits[i]))"
   ]
  },
  {
   "cell_type": "code",
   "execution_count": 569,
   "id": "68e787ee",
   "metadata": {},
   "outputs": [],
   "source": [
    "hits['title'] = hits['title'].str.strip()"
   ]
  },
  {
   "cell_type": "code",
   "execution_count": 571,
   "id": "bacf81a4",
   "metadata": {},
   "outputs": [
    {
     "name": "stdout",
     "output_type": "stream",
     "text": [
      "What song or artist do you like?: pareja del año\n",
      "another love\n"
     ]
    }
   ],
   "source": [
    "import random \n",
    "song_artist = input(\"What song or artist do you like?: \").lower()\n",
    "\n",
    "\n",
    "if song_artist in list(hits['title']):\n",
    "    print(random.choice(list(hits['title'])))\n",
    "elif song_artist in list(hits['artist']):\n",
    "    print(random.choice(list(hits['artist'])))\n",
    "else:\n",
    "    print('We cannot give you a recomendation yet')"
   ]
  },
  {
   "cell_type": "code",
   "execution_count": null,
   "id": "1dcaa3ce",
   "metadata": {},
   "outputs": [],
   "source": []
  },
  {
   "cell_type": "code",
   "execution_count": null,
   "id": "e006d3f4",
   "metadata": {},
   "outputs": [],
   "source": []
  }
 ],
 "metadata": {
  "kernelspec": {
   "display_name": "Python 3 (ipykernel)",
   "language": "python",
   "name": "python3"
  },
  "language_info": {
   "codemirror_mode": {
    "name": "ipython",
    "version": 3
   },
   "file_extension": ".py",
   "mimetype": "text/x-python",
   "name": "python",
   "nbconvert_exporter": "python",
   "pygments_lexer": "ipython3",
   "version": "3.9.7"
  }
 },
 "nbformat": 4,
 "nbformat_minor": 5
}
